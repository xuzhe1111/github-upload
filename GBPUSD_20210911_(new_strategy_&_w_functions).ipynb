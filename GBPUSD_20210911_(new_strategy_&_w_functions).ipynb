{
  "nbformat": 4,
  "nbformat_minor": 0,
  "metadata": {
    "accelerator": "TPU",
    "colab": {
      "name": "GBPUSD_20210911 (new strategy & w/ functions).ipynb",
      "provenance": [],
      "collapsed_sections": [],
      "machine_shape": "hm"
    },
    "kernelspec": {
      "display_name": "Python 3",
      "name": "python3"
    },
    "language_info": {
      "name": "python"
    }
  },
  "cells": [
    {
      "cell_type": "markdown",
      "metadata": {
        "id": "P4K6SO42o1Pq"
      },
      "source": [
        "0. 研究明白Currency Swap和Futures到底怎么用\n",
        "1. 每【15天】重新设置一个新的standard_exchange_rate,而不是全程使用同一个standard_exchange_rate，此时【FREQUENCY = 15】这个HP就非常值得好好调一下\n",
        "2. 学Optuna和https://wandb.ai/site/sweeps + 做Hyperparametres的tuning\n",
        "3. 加一个杠杆率变量，然后限制只有在杠杆率满足某个要求时，才交易，否则为‘null’\n"
      ]
    },
    {
      "cell_type": "markdown",
      "metadata": {
        "id": "AbEFs7n4EyXv"
      },
      "source": [
        "## **1. Import**"
      ]
    },
    {
      "cell_type": "code",
      "metadata": {
        "colab": {
          "base_uri": "https://localhost:8080/"
        },
        "id": "E5gxCzEK_yxu",
        "outputId": "262a0340-3266-42af-a51f-c7abd0780336"
      },
      "source": [
        "from google.colab import drive\n",
        "drive.mount('/content/drive')\n",
        "\n",
        "import pandas as pd\n",
        "pd.options.mode.chained_assignment = None  # default='warn'\n",
        "  # https://stackoverflow.com/questions/20625582/how-to-deal-with-settingwithcopywarning-in-pandas\n",
        "  # https://towardsdatascience.com/explaining-the-settingwithcopywarning-in-pandas-ebc19d799d25\n",
        "  \n",
        "import numpy as np\n",
        "\n",
        "import seaborn as sns\n",
        "import matplotlib.pyplot as plt"
      ],
      "execution_count": 1,
      "outputs": [
        {
          "output_type": "stream",
          "name": "stdout",
          "text": [
            "Drive already mounted at /content/drive; to attempt to forcibly remount, call drive.mount(\"/content/drive\", force_remount=True).\n"
          ]
        }
      ]
    },
    {
      "cell_type": "code",
      "metadata": {
        "colab": {
          "base_uri": "https://localhost:8080/"
        },
        "id": "vJtB05jdoUDH",
        "outputId": "bb6452eb-7374-458e-acf6-63e2e1ece266"
      },
      "source": [
        "from psutil import virtual_memory\n",
        "ram_gb = virtual_memory().total / 1e9\n",
        "print('Your runtime has {:.1f} gigabytes of available RAM\\n'.format(ram_gb))\n",
        "\n",
        "if ram_gb < 20:\n",
        "  print('Not using a high-RAM runtime')\n",
        "else:\n",
        "  print('You are using a high-RAM runtime!')"
      ],
      "execution_count": 2,
      "outputs": [
        {
          "output_type": "stream",
          "name": "stdout",
          "text": [
            "Your runtime has 37.8 gigabytes of available RAM\n",
            "\n",
            "You are using a high-RAM runtime!\n"
          ]
        }
      ]
    },
    {
      "cell_type": "markdown",
      "metadata": {
        "id": "ZqV20x_84aS4"
      },
      "source": [
        "## **2. Define Hyperparametres**"
      ]
    },
    {
      "cell_type": "code",
      "metadata": {
        "id": "AgUbeRMJ4ewJ"
      },
      "source": [
        "#FILE = \"/content/drive/MyDrive/GBPUSD 20210902/GBPUSD_201109_202108.csv\"\n",
        "\n",
        "TRADING_START_DATE = pd.Timestamp(2018,10,1,0,0,0,0)\n",
        "DAYS = 14\n",
        "FREQUENCY = 14\n",
        "DELTA_PERCENTAGE = 0\n",
        "\n",
        "NUM_OF_LINES = 3\n",
        "\n",
        "INITIAL_GBP_BALANCE = 5000 #此数字可任意调整\n"
      ],
      "execution_count": 3,
      "outputs": []
    },
    {
      "cell_type": "markdown",
      "metadata": {
        "id": "sNnddHZ9E3Ja"
      },
      "source": [
        "## **3. Prepare For Data**\n",
        "\n",
        "\n"
      ]
    },
    {
      "cell_type": "code",
      "metadata": {
        "id": "Ax0p7gHnAJwt"
      },
      "source": [
        "df = pd.DataFrame()\n",
        "for year in range(2018,2021):\n",
        "  FILE = \"/content/drive/MyDrive/GBPUSD_20210902/GBPUSD_\" + str(year) + \"09_\" + str(year+1) + \"08.csv\"\n",
        "\n",
        "  df_per = pd.read_csv(FILE)\n",
        "  df = pd.concat([df,df_per], axis=0, ignore_index=True)\n"
      ],
      "execution_count": 4,
      "outputs": []
    },
    {
      "cell_type": "code",
      "metadata": {
        "id": "aEe4sb7EHPOb"
      },
      "source": [
        "# https://pandas.pydata.org/docs/reference/api/pandas.to_datetime.html\n",
        "# https://towardsdatascience.com/10-tricks-for-converting-numbers-and-strings-to-datetime-in-pandas-82a4645fc23d\n",
        "df['Timestamp'] = pd.to_datetime(df['Timestamp'], format=\"%Y%m%d %H:%M:%S:%f\")\n"
      ],
      "execution_count": 5,
      "outputs": []
    },
    {
      "cell_type": "code",
      "metadata": {
        "id": "S4akFRigHPbm"
      },
      "source": [
        "DAYS_TIMEDELTA = pd.Timedelta(DAYS,unit='days')\n",
        "FREQUENCY_TIMEDELTA = pd.Timedelta(FREQUENCY,unit='days')\n",
        "\n",
        "SUB_TRADING_START_DATES = pd.date_range(start=TRADING_START_DATE, end=df['Timestamp'].iloc[-1], freq=FREQUENCY_TIMEDELTA)\n",
        "\n",
        "data_temp = df[df['Timestamp'] >= TRADING_START_DATE].iloc[0]\n",
        "standard_exchange_rate = (data_temp['Bid price'] + data_temp['Ask price']) / 2"
      ],
      "execution_count": 6,
      "outputs": []
    },
    {
      "cell_type": "code",
      "metadata": {
        "id": "pnN6bgtz50mb"
      },
      "source": [
        "# CALCULATE THE TEN LINES\n",
        "def get_ten_lines_and_dfAug(sub_trading_start_date):\n",
        "  #df_Jul\n",
        "  df_Jul = df[(df['Timestamp'] >= (sub_trading_start_date - DAYS_TIMEDELTA)) & (df['Timestamp'] < sub_trading_start_date)]\n",
        "  df_Jul['mid_price'] = (df_Jul['Bid price'] + df_Jul['Ask price'])/2\n",
        "  df_Jul['time_delta'] = (df_Jul['Timestamp'].shift(-1) - df_Jul['Timestamp'])\n",
        "  \n",
        "  mean_Jul = ((df_Jul['time_delta'] * df_Jul['mid_price']).sum()) / (df_Jul['Timestamp'].iloc[-1] - df_Jul['Timestamp'].iloc[0]) #此算法可以调整\n",
        "  max_Jul_bid = df_Jul['Bid price'].max()\n",
        "  min_Jul_ask = df_Jul['Ask price'].min()\n",
        "\n",
        "  delta = (max_Jul_bid - min_Jul_ask) * DELTA_PERCENTAGE # 0这个数字可以调\n",
        "  max_Jul_bid += delta\n",
        "  min_Jul_ask -= delta\n",
        "\n",
        "  sell_lines = np.arange(mean_Jul,max_Jul_bid+0.000001,(max_Jul_bid-mean_Jul)/NUM_OF_LINES) #sell_lines的生成方式可以调整\n",
        "  buy_lines = np.arange(min_Jul_ask,mean_Jul,(mean_Jul-min_Jul_ask)/NUM_OF_LINES) #buy_lines的生成方式可以调整\n",
        "  lines = np.concatenate((buy_lines,sell_lines))\n",
        "\n",
        "  df_Aug = df[(df['Timestamp'] >= sub_trading_start_date) & (df['Timestamp'] < (sub_trading_start_date + FREQUENCY_TIMEDELTA))]\n",
        "  df_Aug = df_Aug.reset_index(drop=True)\n",
        "\n",
        "  return (lines, df_Aug)\n"
      ],
      "execution_count": 36,
      "outputs": []
    },
    {
      "cell_type": "markdown",
      "metadata": {
        "id": "61BnA0LdGgS7"
      },
      "source": [
        "## **4. Trading**"
      ]
    },
    {
      "cell_type": "code",
      "metadata": {
        "id": "C21XCqSqIL1n"
      },
      "source": [
        "def trade(SUB_TRADING_START_DATES, increase_only=True):\n",
        "  #Initialization for Trading\n",
        "  trading_lines_history_status = []\n",
        "  trading_prices_history_status = []\n",
        "  trading_history_status = {}\n",
        "\n",
        "  #Trading Process\n",
        "  for s in SUB_TRADING_START_DATES:\n",
        "    (lines, df_Aug) = get_ten_lines_and_dfAug(s)\n",
        "    df_trading = df_Aug.copy()\n",
        "\n",
        "    MID_PRICE_AT_INDEX_ZERO = (df_trading.iloc[0]['Ask price'] + df_trading.iloc[0]['Bid price']) / 2\n",
        "    temp = list(lines > MID_PRICE_AT_INDEX_ZERO).count(False)\n",
        "    current_two_lines_status = [temp-1, temp]\n",
        "    latest_line_status = temp - 0.3\n",
        "\n",
        "    while True:\n",
        "\n",
        "      if (0 < latest_line_status < (len(lines)-1)):\n",
        "        df_temp = df_trading[(df_trading['Ask price'] <= lines[current_two_lines_status[0]]) | (df_trading['Bid price'] >= lines[current_two_lines_status[1]])]\n",
        "        if len(df_temp) == 0:\n",
        "          break\n",
        "        latest_trading_index_status = df_temp.iloc[0].name \n",
        "\n",
        "        if df_trading.loc[latest_trading_index_status]['Bid price'] >= lines[current_two_lines_status[1]]:\n",
        "          latest_line_status = int(latest_line_status + 1) #这个操作主要是为了照顾到第1次交易时，latest_trading_index_status的初始状态是个小数（x.7）\n",
        "          if increase_only == True:\n",
        "            if (lines[current_two_lines_status[1]]) > standard_exchange_rate:\n",
        "              trading_history_status[latest_trading_index_status] = 'sell'\n",
        "            else:\n",
        "              trading_history_status[latest_trading_index_status] = 'null'\n",
        "          elif increase_only == False:\n",
        "            trading_history_status[latest_trading_index_status] = 'sell'\n",
        "        else:\n",
        "          latest_line_status = round(latest_line_status - 1) #这个操作主要是为了照顾到第1次交易时，latest_trading_index_status的初始状态是个小数（x.7）\n",
        "          if increase_only == True:\n",
        "            if (lines[current_two_lines_status[0]]) < standard_exchange_rate:\n",
        "              trading_history_status[latest_trading_index_status] = 'buy'\n",
        "            else:\n",
        "              trading_history_status[latest_trading_index_status] = 'null'\n",
        "          elif increase_only == False:\n",
        "            trading_history_status[latest_trading_index_status] = 'buy'\n",
        "\n",
        "      elif latest_line_status >= (len(lines)-1):\n",
        "        df_temp = df_trading[(df_trading['Ask price'] <= lines[-2])]\n",
        "        if len(df_temp) == 0:\n",
        "          break\n",
        "        latest_trading_index_status = df_temp.iloc[0].name\n",
        "\n",
        "        latest_line_status = len(lines) - 2\n",
        "\n",
        "        if increase_only == True:\n",
        "          if (lines[-2] < standard_exchange_rate):\n",
        "            trading_history_status[latest_trading_index_status] = 'buy'\n",
        "          else:\n",
        "            trading_history_status[latest_trading_index_status] = 'null'\n",
        "        elif increase_only == False:\n",
        "          trading_history_status[latest_trading_index_status] = 'buy'\n",
        "\n",
        "      elif latest_line_status <= 0:\n",
        "        df_temp = df_trading[(df_trading['Bid price'] >= lines[1])]\n",
        "        if len(df_temp) == 0:\n",
        "          break\n",
        "        latest_trading_index_status = df_temp.iloc[0].name\n",
        "\n",
        "        latest_line_status = 1 \n",
        "\n",
        "        if increase_only == True:\n",
        "          if (lines[1] > standard_exchange_rate):\n",
        "            trading_history_status[latest_trading_index_status] = 'sell'\n",
        "          else:\n",
        "            trading_history_status[latest_trading_index_status] = 'null'\n",
        "        elif increase_only == False:\n",
        "          trading_history_status[latest_trading_index_status] = 'sell'\n",
        "      \n",
        "      current_two_lines_status = [latest_line_status-1,latest_line_status+1]\n",
        "\n",
        "      trading_lines_history_status.append(latest_line_status)\n",
        "      trading_prices_history_status.append(lines[latest_line_status])\n",
        "\n",
        "      df_trading = df_trading.loc[(latest_trading_index_status+1):]\n",
        "\n",
        "\n",
        "  list_buy_sell_or_null = list(trading_history_status.values())\n",
        "\n",
        "  print('Length of list_buy_sell_or_null: ', len(list_buy_sell_or_null))\n",
        "  print('list_buy_sell_or_null: ', list_buy_sell_or_null)\n",
        "  print('trading_prices_history_status: ', trading_prices_history_status)\n",
        "\n",
        "  return (list_buy_sell_or_null, trading_prices_history_status)\n"
      ],
      "execution_count": 37,
      "outputs": []
    },
    {
      "cell_type": "code",
      "metadata": {
        "id": "Yos92rx_-OsW",
        "colab": {
          "base_uri": "https://localhost:8080/"
        },
        "outputId": "1e4be4c3-ea8a-49e6-d14c-d6b900e1e3aa"
      },
      "source": [
        "(list_buy_sell_or_null, trading_prices_history_status) = trade(SUB_TRADING_START_DATES)"
      ],
      "execution_count": 9,
      "outputs": [
        {
          "output_type": "stream",
          "name": "stdout",
          "text": [
            "Length of list_buy_sell_or_null:  496\n",
            "list_buy_sell_or_null:  ['sell', 'buy', 'sell', 'sell', 'null', 'sell', 'sell', 'null', 'sell', 'sell', 'null', 'null', 'null', 'buy', 'buy', 'null', 'null', 'null', 'sell', 'buy', 'buy', 'null', 'buy', 'null', 'buy', 'null', 'buy', 'buy', 'buy', 'null', 'buy', 'null', 'buy', 'buy', 'buy', 'null', 'null', 'buy', 'buy', 'null', 'buy', 'null', 'buy', 'null', 'null', 'null', 'buy', 'buy', 'buy', 'buy', 'buy', 'null', 'null', 'null', 'null', 'null', 'buy', 'null', 'buy', 'null', 'null', 'buy', 'null', 'null', 'buy', 'buy', 'buy', 'null', 'null', 'null', 'null', 'buy', 'buy', 'null', 'buy', 'buy', 'buy', 'null', 'null', 'sell', 'buy', 'sell', 'sell', 'sell', 'null', 'sell', 'null', 'null', 'buy', 'sell', 'sell', 'null', 'sell', 'sell', 'null', 'sell', 'null', 'null', 'sell', 'null', 'buy', 'sell', 'buy', 'sell', 'sell', 'null', 'buy', 'sell', 'buy', 'sell', 'sell', 'buy', 'buy', 'null', 'null', 'null', 'sell', 'buy', 'sell', 'sell', 'null', 'buy', 'buy', 'null', 'buy', 'null', 'buy', 'buy', 'buy', 'null', 'buy', 'buy', 'buy', 'null', 'null', 'null', 'buy', 'null', 'buy', 'null', 'buy', 'buy', 'buy', 'buy', 'null', 'buy', 'buy', 'buy', 'null', 'buy', 'null', 'buy', 'null', 'null', 'null', 'null', 'buy', 'buy', 'buy', 'buy', 'buy', 'null', 'buy', 'null', 'null', 'null', 'null', 'null', 'null', 'buy', 'null', 'buy', 'buy', 'null', 'buy', 'null', 'null', 'null', 'null', 'null', 'null', 'null', 'null', 'null', 'buy', 'null', 'buy', 'buy', 'null', 'buy', 'null', 'null', 'null', 'buy', 'null', 'null', 'sell', 'null', 'sell', 'null', 'buy', 'buy', 'null', 'sell', 'sell', 'null', 'null', 'buy', 'sell', 'buy', 'sell', 'sell', 'sell', 'null', 'buy', 'buy', 'null', 'buy', 'null', 'sell', 'sell', 'null', 'buy', 'buy', 'null', 'buy', 'buy', 'buy', 'null', 'null', 'sell', 'buy', 'buy', 'buy', 'null', 'buy', 'null', 'null', 'buy', 'buy', 'buy', 'null', 'null', 'null', 'sell', 'sell', 'null', 'sell', 'null', 'buy', 'buy', 'buy', 'null', 'buy', 'buy', 'buy', 'null', 'null', 'null', 'null', 'null', 'null', 'buy', 'buy', 'null', 'null', 'buy', 'buy', 'null', 'buy', 'buy', 'null', 'null', 'buy', 'null', 'null', 'null', 'null', 'null', 'buy', 'buy', 'null', 'null', 'buy', 'buy', 'null', 'null', 'buy', 'null', 'buy', 'null', 'null', 'buy', 'null', 'sell', 'buy', 'sell', 'null', 'null', 'sell', 'sell', 'null', 'sell', 'null', 'sell', 'null', 'null', 'null', 'buy', 'buy', 'buy', 'null', 'null', 'buy', 'null', 'buy', 'null', 'buy', 'null', 'null', 'null', 'sell', 'buy', 'buy', 'null', 'buy', 'buy', 'null', 'buy', 'null', 'null', 'sell', 'null', 'null', 'buy', 'buy', 'null', 'buy', 'null', 'sell', 'buy', 'buy', 'null', 'sell', 'sell', 'sell', 'null', 'sell', 'null', 'sell', 'null', 'sell', 'null', 'null', 'null', 'sell', 'sell', 'null', 'null', 'null', 'sell', 'sell', 'sell', 'null', 'sell', 'sell', 'null', 'null', 'null', 'sell', 'sell', 'sell', 'null', 'sell', 'sell', 'null', 'sell', 'sell', 'sell', 'null', 'null', 'sell', 'sell', 'null', 'sell', 'sell', 'sell', 'sell', 'null', 'sell', 'null', 'sell', 'null', 'null', 'sell', 'sell', 'null', 'sell', 'null', 'sell', 'null', 'sell', 'null', 'sell', 'null', 'sell', 'null', 'null', 'sell', 'sell', 'sell', 'sell', 'null', 'sell', 'null', 'sell', 'sell', 'null', 'sell', 'null', 'sell', 'null', 'null', 'null', 'sell', 'null', 'sell', 'sell', 'sell', 'null', 'null', 'null', 'sell', 'null', 'null', 'sell', 'null', 'sell', 'sell', 'null', 'sell', 'sell', 'sell', 'sell', 'null', 'null', 'sell', 'sell', 'null', 'null', 'sell', 'sell', 'sell', 'sell', 'sell', 'null', 'sell', 'null', 'sell', 'null', 'null', 'sell', 'sell', 'null', 'null', 'sell', 'null', 'null', 'null', 'null', 'sell', 'null', 'sell', 'null', 'null', 'sell', 'null', 'sell', 'sell', 'null', 'sell', 'sell', 'sell', 'sell', 'null', 'sell', 'null', 'null', 'sell', 'null', 'sell', 'null', 'null', 'null', 'sell', 'sell']\n",
            "trading_prices_history_status:  [1.3044868154962752, 1.2958645436641834, 1.3044868154962752, 1.3129245436641834, 1.3044868154962752, 1.3129245436641834, 1.3213622718320917, 1.3129245436641834, 1.317116765719039, 1.3234583828595197, 1.317116765719039, 1.3107751485785584, 1.304596765719039, 1.2984183828595195, 1.29224, 1.280795944681583, 1.2919518893631663, 1.3031078340447497, 1.3106552226964998, 1.3031078340447497, 1.2919518893631663, 1.3031078340447497, 1.2919518893631663, 1.3031078340447497, 1.2919518893631663, 1.3031078340447497, 1.2969761673751075, 1.287864111583405, 1.2787520557917025, 1.287864111583405, 1.2787520557917025, 1.287864111583405, 1.2787520557917025, 1.276711319685237, 1.27014, 1.276711319685237, 1.2832826393704742, 1.276711319685237, 1.27014, 1.276711319685237, 1.27014, 1.276711319685237, 1.27014, 1.2665778242967596, 1.2728137583030357, 1.2783768791515178, 1.2728137583030357, 1.2672506374545536, 1.260757091636369, 1.2542635458181846, 1.24777, 1.2542635458181846, 1.260757091636369, 1.2672506374545536, 1.2728137583030357, 1.2783768791515178, 1.2728137583030357, 1.2783768791515178, 1.2728137583030357, 1.2783768791515178, 1.2839399999999999, 1.2783768791515178, 1.2839399999999999, 1.2865500000000003, 1.2810265674071555, 1.2755031348143107, 1.2699797022214658, 1.2755031348143107, 1.2810265674071555, 1.2865500000000003, 1.3099748433855236, 1.2982296867710472, 1.2864845301565708, 1.2982296867710472, 1.2864845301565708, 1.288757551506006, 1.277913775753003, 1.288757551506006, 1.2996013272590086, 1.3069742181726725, 1.2996013272590086, 1.3069742181726725, 1.3143471090863363, 1.3217200000000002, 1.3143471090863363, 1.3217200000000002, 1.3235114908699055, 1.3120329817398109, 1.3005544726097162, 1.3120329817398109, 1.3235114908699055, 1.3120329817398109, 1.3235114908699055, 1.3349900000000001, 1.3235114908699055, 1.327962637291622, 1.3178452745832439, 1.3077279118748657, 1.3178452745832439, 1.3077279118748657, 1.3034352826691489, 1.3107705653382977, 1.3034352826691489, 1.3107705653382977, 1.3181058480074466, 1.3107705653382977, 1.3034352826691489, 1.3107705653382977, 1.3034352826691489, 1.3107705653382977, 1.3087313695671807, 1.3032856847835903, 1.2978399999999999, 1.2920392632286501, 1.2974585264573002, 1.30287778968595, 1.3084385264573, 1.30287778968595, 1.3084385264573, 1.31399926322865, 1.3084385264573, 1.30287778968595, 1.2974585264573002, 1.30287778968595, 1.2974585264573002, 1.296550686694836, 1.291585343347418, 1.28662, 1.2605600000000001, 1.270126868305724, 1.2659034541642646, 1.2609267270821323, 1.25595, 1.2609267270821323, 1.2659034541642646, 1.2708801812463968, 1.2659034541642646, 1.2708801812463968, 1.2670611386901576, 1.2708274257934384, 1.2670611386901576, 1.2615974257934386, 1.2561337128967194, 1.2506700000000002, 1.2561337128967194, 1.2560518253253126, 1.2500209126626562, 1.24399, 1.2500209126626562, 1.24399, 1.2500209126626562, 1.24399, 1.211157743347711, 1.220745486695422, 1.222832289990453, 1.2305561449952263, 1.222832289990453, 1.2151084349856796, 1.2105956233237862, 1.2060828116618931, 1.20157, 1.2060828116618931, 1.20157, 1.2060828116618931, 1.2105956233237862, 1.2151084349856796, 1.222832289990453, 1.2305561449952263, 1.2382799999999996, 1.2320548119309376, 1.2385299999999997, 1.233713822235485, 1.2211092148236569, 1.233713822235485, 1.2211092148236569, 1.233713822235485, 1.2418792148236568, 1.2444322040725724, 1.2513211020362862, 1.25821, 1.2858871644057324, 1.2842300308605135, 1.2898866872403423, 1.295543343620171, 1.2898866872403423, 1.295543343620171, 1.2898866872403423, 1.2842300308605135, 1.2876944614249353, 1.2841063076166235, 1.2876944614249353, 1.291309640949957, 1.2949248204749786, 1.291309640949957, 1.2949248204749786, 1.2985400000000002, 1.3180399999999997, 1.310083887862974, 1.3180399999999997, 1.310083887862974, 1.3021277757259482, 1.2941716635889224, 1.299160898299571, 1.3073563474493564, 1.3220675649662375, 1.3073563474493564, 1.3053122432153126, 1.2979261216076563, 1.3053122432153126, 1.2979261216076563, 1.3053122432153126, 1.312698364822969, 1.3144392991430016, 1.3074589487145025, 1.3026859658096683, 1.2979129829048341, 1.3026859658096683, 1.2979129829048341, 1.3026859658096683, 1.3074589487145025, 1.3144392991430016, 1.3074589487145025, 1.3026859658096683, 1.2979129829048341, 1.3026859658096683, 1.2979129829048341, 1.29314, 1.28826, 1.293972980894014, 1.2996859617880279, 1.305398942682042, 1.2996859617880279, 1.293972980894014, 1.28826, 1.293972980894014, 1.2905204885759833, 1.2960909771519666, 1.30166146572795, 1.2960909771519666, 1.2905204885759833, 1.28495, 1.2905204885759833, 1.2960909771519666, 1.30166146572795, 1.3080743104852999, 1.3105299999999998, 1.3050190399150756, 1.3105299999999998, 1.3050190399150756, 1.2995080798301515, 1.2939971197452274, 1.2868780798301516, 1.2939971197452274, 1.2868780798301516, 1.2797590399150758, 1.27264, 1.1791610952334746, 1.2169221904669492, 1.2552909807710433, 1.235199683806225, 1.2450331225374833, 1.2548665612687417, 1.2450331225374833, 1.235199683806225, 1.237736110148893, 1.2442091652233396, 1.237736110148893, 1.2312630550744466, 1.237736110148893, 1.2312630550744466, 1.22479, 1.2252124195417002, 1.2339936293125502, 1.2252124195417002, 1.2339936293125502, 1.2440924195417, 1.2541912097708499, 1.2642899999999997, 1.2730900000000003, 1.258978668404908, 1.2448673368098158, 1.2385513229139353, 1.2496069843709028, 1.2385513229139353, 1.2274956614569676, 1.2385513229139353, 1.2496069843709028, 1.2486726796084466, 1.2595384530722977, 1.2486726796084466, 1.2595384530722977, 1.2704042265361488, 1.26812043134608, 1.2767899999999999, 1.3169899999999999, 1.303502578364737, 1.3169899999999999, 1.318415864372881, 1.3101217287457618, 1.318415864372881, 1.32671, 1.318415864372881, 1.32671, 1.318415864372881, 1.32671, 1.3168013260366271, 1.3113942173577515, 1.3059871086788757, 1.3005799999999998, 1.2879598554611953, 1.2763, 1.2879598554611953, 1.3006946078524781, 1.2877569117787173, 1.3006946078524781, 1.2877569117787173, 1.3006946078524781, 1.2877569117787173, 1.3006946078524781, 1.296029321053198, 1.302139660526599, 1.30825, 1.302139660526599, 1.296029321053198, 1.302139660526599, 1.296029321053198, 1.289918981579797, 1.296029321053198, 1.289918981579797, 1.296029321053198, 1.302139660526599, 1.30825, 1.311264047981702, 1.304868095963404, 1.2984721439451061, 1.2938480959634042, 1.2984721439451061, 1.2938480959634042, 1.2984721439451061, 1.304868095963404, 1.2984721439451061, 1.2938480959634042, 1.2984721439451061, 1.304868095963404, 1.311264047981702, 1.3176599999999998, 1.311264047981702, 1.3176599999999998, 1.3237749771270624, 1.33132, 1.3416796963475661, 1.3499700000000001, 1.3416796963475661, 1.3333893926951321, 1.3250990890426981, 1.3333893926951321, 1.3416796963475661, 1.3333893926951321, 1.3250990890426981, 1.3139060593617986, 1.3250990890426981, 1.3333893926951321, 1.3416796963475661, 1.3333893926951321, 1.3416796963475661, 1.3499700000000001, 1.3357688947063164, 1.328345929804211, 1.3209229649021055, 1.328345929804211, 1.3357688947063164, 1.3446592631375442, 1.3357688947063164, 1.3446592631375442, 1.353549631568772, 1.3446592631375442, 1.353549631568772, 1.3624399999999999, 1.3685899999999998, 1.3605449282880397, 1.3524998565760797, 1.3605449282880397, 1.3685899999999998, 1.3605449282880397, 1.3571776112742944, 1.3618084075161963, 1.3664392037580981, 1.37107, 1.3664392037580981, 1.37107, 1.3664392037580981, 1.37107, 1.3664392037580981, 1.3618084075161963, 1.3664392037580981, 1.37107, 1.3664392037580981, 1.37107, 1.3664392037580981, 1.37107, 1.3664392037580981, 1.37107, 1.3664392037580981, 1.3679695485088734, 1.36402932276331, 1.3679695485088734, 1.36402932276331, 1.3577228818422067, 1.36402932276331, 1.3679695485088734, 1.3719097742544368, 1.3758500000000002, 1.387719185722115, 1.3951500000000001, 1.387719185722115, 1.3951500000000001, 1.4002352944171215, 1.388277941625682, 1.4002352944171215, 1.388277941625682, 1.3942245658603045, 1.3887863772402032, 1.3833481886201016, 1.37791, 1.3833481886201016, 1.37791, 1.3833481886201016, 1.3847575991089476, 1.390408399405965, 1.3847575991089476, 1.3788617327392982, 1.3729658663696491, 1.3788617327392982, 1.3729658663696491, 1.36707, 1.3729658663696491, 1.36707, 1.3729658663696491, 1.3788617327392982, 1.3729658663696491, 1.3788617327392982, 1.384536883188235, 1.3902234415941175, 1.39591, 1.3902234415941175, 1.384536883188235, 1.3902234415941175, 1.39591, 1.3902234415941175, 1.384536883188235, 1.383445762662749, 1.3892605084418326, 1.3950752542209162, 1.4008899999999997, 1.4166500000000002, 1.4096124159638406, 1.4166500000000002, 1.4144226994999776, 1.4196663497499888, 1.4144226994999776, 1.4091790492499663, 1.4144226994999776, 1.4196663497499888, 1.4144226994999776, 1.4091790492499663, 1.4144226994999776, 1.4091790492499663, 1.3994926994999777, 1.39831, 1.37523, 1.3836440629703712, 1.37523, 1.3836440629703712, 1.377420889895651, 1.37325, 1.377420889895651, 1.37325, 1.377420889895651, 1.381591779791302, 1.377420889895651, 1.381591779791302, 1.3857626696869532, 1.390791779791302, 1.395820889895651, 1.390791779791302, 1.3925211141966038, 1.3867222283932075, 1.380923342589811, 1.3867222283932075, 1.380923342589811, 1.3867222283932075, 1.3836828651864406, 1.3748652434576272, 1.3660476217288136, 1.3748652434576272, 1.3795303393971456]\n"
          ]
        }
      ]
    },
    {
      "cell_type": "markdown",
      "metadata": {
        "id": "2ChUptWwI0nx"
      },
      "source": [
        "## **5. Calculate the profit**"
      ]
    },
    {
      "cell_type": "code",
      "metadata": {
        "id": "_tkGDAZDZQ12"
      },
      "source": [
        "def calculate_profit():\n",
        "  #Initialization for Calculating the Profit\n",
        "  INVESTMENT_GBP_PER = INITIAL_GBP_BALANCE/NUM_OF_LINES\n",
        "\n",
        "  INITIAL_USD_BALANCE = INITIAL_GBP_BALANCE * standard_exchange_rate\n",
        "\n",
        "  TOTAL_COST_USD = INITIAL_GBP_BALANCE * standard_exchange_rate + INITIAL_USD_BALANCE\n",
        "  TOTAL_COST_GBP = INITIAL_USD_BALANCE / standard_exchange_rate + INITIAL_GBP_BALANCE\n",
        "\n",
        "  balance_usd_list = [INITIAL_USD_BALANCE]\n",
        "  balance_gbp_list = [INITIAL_GBP_BALANCE]\n",
        "  balance_equivalent_total_usd_list = [TOTAL_COST_USD]\n",
        "  balance_equivalent_total_gbp_list = [TOTAL_COST_GBP]\n",
        "  profit_rate_usd_list = [0]\n",
        "  profit_rate_gbp_list = [0]\n",
        "\n",
        "  #Calculating Process\n",
        "  for i in range(len(list_buy_sell_or_null)):\n",
        "\n",
        "    trading_price = trading_prices_history_status[i]\n",
        "    \n",
        "    if list_buy_sell_or_null[i] == 'buy':\n",
        "      balance_usd = balance_usd_list[-1] - INVESTMENT_GBP_PER * trading_price\n",
        "      balance_gbp = balance_gbp_list[-1] + INVESTMENT_GBP_PER\n",
        "    elif list_buy_sell_or_null[i] == 'sell':\n",
        "      balance_usd = balance_usd_list[-1] + INVESTMENT_GBP_PER * trading_price\n",
        "      balance_gbp = balance_gbp_list[-1] - INVESTMENT_GBP_PER\n",
        "    \n",
        "    balance_equivalent_total_usd = balance_usd + balance_gbp * standard_exchange_rate\n",
        "    balance_equivalent_total_gbp = balance_gbp + balance_usd / standard_exchange_rate\n",
        "\n",
        "    profit_rate_usd = (balance_equivalent_total_usd - TOTAL_COST_USD) / TOTAL_COST_USD\n",
        "    profit_rate_gbp = (balance_equivalent_total_gbp - TOTAL_COST_GBP) / TOTAL_COST_GBP\n",
        "\n",
        "    balance_usd_list.append(balance_usd)\n",
        "    balance_gbp_list.append(balance_gbp)\n",
        "\n",
        "    balance_equivalent_total_usd_list.append(balance_equivalent_total_usd)\n",
        "    balance_equivalent_total_gbp_list.append(balance_equivalent_total_gbp)\n",
        "\n",
        "    profit_rate_usd_list.append(profit_rate_usd)\n",
        "    profit_rate_gbp_list.append(profit_rate_gbp)\n",
        "\n",
        "  balance_usd_list = np.array(balance_usd_list)\n",
        "  balance_usd_list = np.round(balance_usd_list,2)\n",
        "  balance_usd_list = list(balance_usd_list)\n",
        "  balance_gbp_list = np.array(balance_gbp_list)\n",
        "  balance_gbp_list = np.rint(balance_gbp_list)\n",
        "  balance_gbp_list = list(balance_gbp_list)\n",
        "  balance_equivalent_total_usd_list = np.array(balance_equivalent_total_usd_list)\n",
        "  balance_equivalent_total_usd_list = np.round(balance_equivalent_total_usd_list,2)\n",
        "  balance_equivalent_total_usd_list = list(balance_equivalent_total_usd_list)\n",
        "  balance_equivalent_total_gbp_list = np.array(balance_equivalent_total_gbp_list)\n",
        "  balance_equivalent_total_gbp_list = np.round(balance_equivalent_total_gbp_list,2)\n",
        "  balance_equivalent_total_gbp_list = list(balance_equivalent_total_gbp_list)\n",
        "  profit_rate_usd_list = np.array(profit_rate_usd_list)\n",
        "  profit_rate_usd_list = np.round(profit_rate_usd_list,4)\n",
        "  profit_rate_usd_list = list(profit_rate_usd_list)\n",
        "  profit_rate_gbp_list = np.array(profit_rate_gbp_list)\n",
        "  profit_rate_gbp_list = np.round(profit_rate_gbp_list,4)\n",
        "  profit_rate_gbp_list = list(profit_rate_gbp_list)\n",
        "    \n",
        "  #最后一次交易之后的balance和profit（trading_price是最后一次交易的价格）\n",
        "  #print('balance_usd_list: ',balance_usd_list)\n",
        "  #print('balance_gbp_list: ',balance_gbp_list)\n",
        "  #print('balance_equivalent_total_usd_list: ',balance_equivalent_total_usd_list)\n",
        "  #print('balance_equivalent_total_gbp_list: ',balance_equivalent_total_gbp_list)\n",
        "  #print('profit_rate_usd_list: ',profit_rate_usd_list)\n",
        "  #print('profit_rate_gbp_list: ',profit_rate_gbp_list)\n",
        "\n",
        "  return (balance_usd_list, balance_gbp_list, balance_equivalent_total_usd_list, profit_rate_usd_list)\n"
      ],
      "execution_count": 10,
      "outputs": []
    },
    {
      "cell_type": "code",
      "metadata": {
        "id": "16NNFrrcEY8d",
        "colab": {
          "base_uri": "https://localhost:8080/",
          "height": 384
        },
        "outputId": "1feb19c9-1043-4fd5-a430-0dfa7b2590ff"
      },
      "source": [
        "(balance_usd_list, balance_gbp_list, balance_equivalent_total_usd_list, profit_rate_usd_list) = calculate_profit()\n",
        "final_profit_rate_usd = profit_rate_usd_list[-1]\n",
        "\n",
        "\n",
        "print('profit_rate_usd_list: ', profit_rate_usd_list)\n",
        "print('final_profit_rate_usd: ', final_profit_rate_usd)\n",
        "print('max_profit_rate_usd: ', max(profit_rate_usd_list))\n",
        "print('min_profit_rate_usd: ', min(profit_rate_usd_list))\n",
        "\n",
        "df_result_plot = pd.DataFrame({'x':range(len(list_buy_sell_or_null)), 'y':profit_rate_usd_list[1:]})\n",
        "sns.lineplot(x='x', y='y', data=df_result_plot)\n"
      ],
      "execution_count": 11,
      "outputs": [
        {
          "output_type": "stream",
          "name": "stdout",
          "text": [
            "profit_rate_usd_list:  [0.0, 0.0001, 0.0011, 0.0012, 0.0024, 0.0024, 0.0035, 0.0058, 0.0058, 0.0075, 0.01, 0.01, 0.01, 0.01, 0.0107, 0.0121, 0.0121, 0.0121, 0.0121, 0.013, 0.0131, 0.0146, 0.0146, 0.0161, 0.0161, 0.0177, 0.0177, 0.0185, 0.0206, 0.0238, 0.0238, 0.027, 0.027, 0.0302, 0.0336, 0.038, 0.038, 0.038, 0.0414, 0.0457, 0.0457, 0.05, 0.05, 0.0543, 0.0543, 0.0543, 0.0543, 0.0583, 0.063, 0.0685, 0.0748, 0.082, 0.082, 0.082, 0.082, 0.082, 0.082, 0.0859, 0.0859, 0.0899, 0.0899, 0.0899, 0.0932, 0.0932, 0.0932, 0.0961, 0.0997, 0.104, 0.104, 0.104, 0.104, 0.104, 0.1047, 0.1069, 0.1069, 0.1092, 0.1111, 0.1144, 0.1144, 0.1144, 0.1148, 0.1153, 0.1157, 0.1171, 0.1194, 0.1194, 0.1217, 0.1217, 0.1217, 0.1221, 0.1231, 0.1257, 0.1257, 0.1282, 0.1322, 0.1322, 0.1352, 0.1352, 0.1352, 0.137, 0.137, 0.1371, 0.138, 0.138, 0.1389, 0.1407, 0.1407, 0.1408, 0.1417, 0.1417, 0.1426, 0.1432, 0.1433, 0.1441, 0.1441, 0.1441, 0.1441, 0.1447, 0.1448, 0.1454, 0.1467, 0.1467, 0.1468, 0.1476, 0.1476, 0.1484, 0.1484, 0.15, 0.1522, 0.1577, 0.1577, 0.1626, 0.168, 0.1742, 0.1742, 0.1742, 0.1742, 0.179, 0.179, 0.1837, 0.1837, 0.1884, 0.1938, 0.1999, 0.2067, 0.2067, 0.2128, 0.2197, 0.2273, 0.2273, 0.235, 0.235, 0.2426, 0.2426, 0.2426, 0.2426, 0.2426, 0.253, 0.2643, 0.2762, 0.2887, 0.3018, 0.3018, 0.3149, 0.3149, 0.3149, 0.3149, 0.3149, 0.3149, 0.3149, 0.324, 0.324, 0.333, 0.3436, 0.3436, 0.3541, 0.3541, 0.3541, 0.3541, 0.3541, 0.3541, 0.3541, 0.3541, 0.3541, 0.3541, 0.3559, 0.3559, 0.3577, 0.3602, 0.3602, 0.3627, 0.3627, 0.3627, 0.3627, 0.3643, 0.3643, 0.3643, 0.3661, 0.3661, 0.368, 0.368, 0.3682, 0.3694, 0.3694, 0.3699, 0.3722, 0.3722, 0.3722, 0.373, 0.3731, 0.3739, 0.3741, 0.3752, 0.3766, 0.3766, 0.3767, 0.3775, 0.3775, 0.3782, 0.3782, 0.3787, 0.3801, 0.3801, 0.3802, 0.381, 0.381, 0.3817, 0.3831, 0.3851, 0.3851, 0.3851, 0.3853, 0.3858, 0.3871, 0.389, 0.389, 0.3907, 0.3907, 0.3907, 0.3917, 0.3934, 0.3958, 0.3958, 0.3958, 0.3958, 0.3964, 0.3972, 0.3972, 0.3981, 0.3981, 0.3987, 0.3999, 0.4021, 0.4021, 0.4042, 0.4073, 0.4113, 0.4113, 0.4113, 0.4113, 0.4113, 0.4113, 0.4113, 0.4188, 0.4276, 0.4276, 0.4276, 0.436, 0.4453, 0.4453, 0.4546, 0.4647, 0.4647, 0.4647, 0.4747, 0.4747, 0.4747, 0.4747, 0.4747, 0.4747, 0.4805, 0.488, 0.488, 0.488, 0.4963, 0.5061, 0.5061, 0.5061, 0.5132, 0.5132, 0.5202, 0.5202, 0.5202, 0.5248, 0.5248, 0.5265, 0.5265, 0.5282, 0.5282, 0.5282, 0.53, 0.533, 0.533, 0.5359, 0.5359, 0.5388, 0.5388, 0.5388, 0.5388, 0.5392, 0.5413, 0.5448, 0.5448, 0.5448, 0.5468, 0.5468, 0.5489, 0.5489, 0.5509, 0.5509, 0.5509, 0.5509, 0.5515, 0.5517, 0.5527, 0.5527, 0.5537, 0.5555, 0.5555, 0.5573, 0.5573, 0.5573, 0.5578, 0.5578, 0.5578, 0.5585, 0.5598, 0.5598, 0.5611, 0.5611, 0.5612, 0.5619, 0.5632, 0.5632, 0.5633, 0.5642, 0.566, 0.566, 0.5678, 0.5678, 0.5713, 0.5713, 0.5772, 0.5772, 0.5772, 0.5772, 0.581, 0.5858, 0.5858, 0.5858, 0.5858, 0.5885, 0.5923, 0.5972, 0.5972, 0.602, 0.6079, 0.6079, 0.6079, 0.6079, 0.611, 0.6151, 0.6203, 0.6203, 0.6256, 0.6319, 0.6319, 0.6383, 0.6458, 0.654, 0.654, 0.654, 0.6613, 0.6696, 0.6696, 0.6764, 0.6838, 0.6918, 0.7004, 0.7004, 0.709, 0.709, 0.7176, 0.7176, 0.7176, 0.7256, 0.7342, 0.7342, 0.7428, 0.7428, 0.7514, 0.7514, 0.76, 0.76, 0.7682, 0.7682, 0.7764, 0.7764, 0.7764, 0.7841, 0.7923, 0.801, 0.8102, 0.8102, 0.8219, 0.8219, 0.8335, 0.8459, 0.8459, 0.8582, 0.8582, 0.8698, 0.8698, 0.8698, 0.8698, 0.8799, 0.8799, 0.8901, 0.9004, 0.9115, 0.9115, 0.9115, 0.9115, 0.9211, 0.9211, 0.9211, 0.9299, 0.9299, 0.9388, 0.9484, 0.9484, 0.958, 0.9683, 0.9793, 0.9911, 0.9911, 0.9911, 1.0021, 1.0139, 1.0139, 1.0139, 1.0241, 1.035, 1.0467, 1.0591, 1.0735, 1.0735, 1.0879, 1.0879, 1.1027, 1.1027, 1.1027, 1.1169, 1.1317, 1.1317, 1.1317, 1.1458, 1.1458, 1.1458, 1.1458, 1.1458, 1.156, 1.156, 1.1662, 1.1662, 1.1662, 1.1756, 1.1756, 1.185, 1.195, 1.195, 1.2049, 1.2154, 1.2265, 1.2383, 1.2383, 1.2496, 1.2496, 1.2496, 1.2602, 1.2602, 1.2708, 1.2708, 1.2708, 1.2708, 1.2799, 1.2896]\n",
            "final_profit_rate_usd:  1.2896\n",
            "max_profit_rate_usd:  1.2896\n",
            "min_profit_rate_usd:  0.0\n"
          ]
        },
        {
          "output_type": "execute_result",
          "data": {
            "text/plain": [
              "<matplotlib.axes._subplots.AxesSubplot at 0x7f367e05c910>"
            ]
          },
          "metadata": {},
          "execution_count": 11
        },
        {
          "output_type": "display_data",
          "data": {
            "image/png": "[encoded data removed]",
            "text/plain": [
              "<Figure size 432x288 with 1 Axes>"
            ]
          },
          "metadata": {
            "needs_background": "light"
          }
        }
      ]
    },
    {
      "cell_type": "code",
      "metadata": {
        "colab": {
          "base_uri": "https://localhost:8080/",
          "height": 296
        },
        "id": "sy4dNQSLDRcb",
        "outputId": "8c7290ad-ef64-49f7-a756-8ea602940064"
      },
      "source": [
        "# https://stackoverflow.com/questions/58785983/seaborn-plot-with-shared-x-axis\n",
        "\n",
        "df_hahaha = pd.DataFrame({'x':range(len(list_buy_sell_or_null)), 'usd':balance_usd_list[1:], 'gbp':balance_gbp_list[1:], 'trading_prices':trading_prices_history_status})\n",
        "\n",
        "fig, ax1 = plt.subplots()\n",
        "ax2 = ax1.twinx()\n",
        "\n",
        "sns.lineplot(x='x', y='usd', data=df_hahaha, ax=ax1)\n",
        "sns.lineplot(x='x', y='gbp', data=df_hahaha, ax=ax1)\n",
        "sns.lineplot(x='x', y='trading_prices', data=df_hahaha, ax=ax2, color='red')\n",
        "plt.axhline(standard_exchange_rate, color='green')"
      ],
      "execution_count": 32,
      "outputs": [
        {
          "output_type": "execute_result",
          "data": {
            "text/plain": [
              "<matplotlib.lines.Line2D at 0x7f368471b450>"
            ]
          },
          "metadata": {},
          "execution_count": 32
        },
        {
          "output_type": "display_data",
          "data": {
            "image/png": "[encoded data removed]",
            "text/plain": [
              "<Figure size 432x288 with 2 Axes>"
            ]
          },
          "metadata": {
            "needs_background": "light"
          }
        }
      ]
    },
    {
      "cell_type": "code",
      "metadata": {
        "colab": {
          "base_uri": "https://localhost:8080/"
        },
        "id": "a05TTtLNXe6s",
        "outputId": "724c5852-185e-4652-c0b0-48c9ce6f50e9"
      },
      "source": [
        "pd.value_counts(list_buy_sell_or_null)"
      ],
      "execution_count": 35,
      "outputs": [
        {
          "output_type": "execute_result",
          "data": {
            "text/plain": [
              "null    228\n",
              "sell    134\n",
              "buy     134\n",
              "dtype: int64"
            ]
          },
          "metadata": {},
          "execution_count": 35
        }
      ]
    }
  ]
}